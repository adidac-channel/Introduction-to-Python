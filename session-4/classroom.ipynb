{
 "cells": [
  {
   "cell_type": "markdown",
   "metadata": {},
   "source": [
    "# Python Logic Flow Control\n",
    "\n",
    "Today's session we will focus on python's logical controllers.\n",
    "\n",
    "## Python Conditionals\n",
    "\n",
    "Python supports the usual logical conditions from mathematics:\n",
    "\n",
    "Equals: `a == b`\n",
    "Not Equals: `a != b`\n",
    "Less than: `a < b`\n",
    "Less than or equal to: `a <= b`\n",
    "Greater than: `a > b`\n",
    "Greater than or equal to: `a >= b`\n",
    "\n",
    "These conditions can be used in several ways, most commonly in `\"if statements\"` and `loops`.\n",
    "\n",
    "An `\"if statement\"` is written by using the `if` keyword.\n"
   ]
  },
  {
   "cell_type": "code",
   "execution_count": null,
   "metadata": {},
   "outputs": [],
   "source": [
    "a = 33\n",
    "b = 200\n",
    "\n",
    "if b > a:\n",
    "  print(\"b is greater than a\")"
   ]
  },
  {
   "cell_type": "markdown",
   "metadata": {},
   "source": [
    "In this example we use two variables, `a` and `b`, which are used as part of the `if statement` to test whether `b` is greater than `a`. As `a` is `33`, and `b` is `200`, we know that `200` is greater than `33`, and so we print to screen that `\"b is greater than a\"`\n",
    "\n",
    "### Indentation\n",
    "\n",
    "Python relies on **indentation** (whitespace at the beginning of a line) to define scope in the code. Other programming languages often use **curly-brackets** for this purpose.\n"
   ]
  },
  {
   "cell_type": "code",
   "execution_count": null,
   "metadata": {},
   "outputs": [],
   "source": [
    "# This code will give error\n",
    "\n",
    "# a = 33\n",
    "# b = 200\n",
    "# if b > a:\n",
    "# print(\"b is greater than a\") # you will get an error"
   ]
  },
  {
   "cell_type": "markdown",
   "metadata": {},
   "source": [
    "### Elif\n",
    "\n",
    "The `elif` keyword is Python's way of saying `\"if the previous conditions were not true, then try this condition\"`."
   ]
  },
  {
   "cell_type": "code",
   "execution_count": null,
   "metadata": {},
   "outputs": [],
   "source": [
    "a = 33\n",
    "b = 33\n",
    "if b > a:\n",
    "  print(\"b is greater than a\")\n",
    "elif a == b:\n",
    "  print(\"a and b are equal\")"
   ]
  },
  {
   "cell_type": "markdown",
   "metadata": {},
   "source": [
    "In this example `a` is equal to `b`, so the first condition is not `true`, but the `elif` condition is `true`, so we print to screen that `\"a and b are equal\"`.\n",
    "\n",
    "### Else\n",
    "\n",
    "The `else` keyword catches anything which isn't caught by the preceding conditions."
   ]
  },
  {
   "cell_type": "code",
   "execution_count": null,
   "metadata": {},
   "outputs": [],
   "source": [
    "a = 200\n",
    "b = 33\n",
    "if b > a:\n",
    "  print(\"b is greater than a\")\n",
    "elif a == b:\n",
    "  print(\"a and b are equal\")\n",
    "else:\n",
    "  print(\"a is greater than b\")"
   ]
  },
  {
   "cell_type": "markdown",
   "metadata": {},
   "source": [
    "In this example `a` is greater than `b`, so the first condition is not `true`, also the `elif` condition is `not true`, so we go to the `else` condition and print to screen that `\"a is greater than b\"`.\n",
    "\n",
    "You can also have an `else` **without** the `elif`:"
   ]
  },
  {
   "cell_type": "code",
   "execution_count": null,
   "metadata": {},
   "outputs": [],
   "source": [
    "a = 200\n",
    "b = 33\n",
    "if b > a:\n",
    "  print(\"b is greater than a\")\n",
    "else:\n",
    "  print(\"b is not greater than a\")"
   ]
  },
  {
   "cell_type": "markdown",
   "metadata": {},
   "source": [
    "### Short Hand If\n",
    "\n",
    "If you have only **one statement to execute**, you can put it on the **same line** as the `if statement`."
   ]
  },
  {
   "cell_type": "code",
   "execution_count": null,
   "metadata": {},
   "outputs": [],
   "source": [
    "# One line if statement\n",
    "\n",
    "if a > b: print(\"a is greater than b\")"
   ]
  },
  {
   "cell_type": "markdown",
   "metadata": {},
   "source": [
    "### Short Hand If ... Else\n",
    "\n",
    "If you have **only one statement to execute**, one for `if`, and one for `else`, you can put it all on the **same line**:"
   ]
  },
  {
   "cell_type": "code",
   "execution_count": null,
   "metadata": {},
   "outputs": [],
   "source": [
    "a = 2\n",
    "b = 330\n",
    "print(\"A\") if a > b else print(\"B\")"
   ]
  },
  {
   "cell_type": "markdown",
   "metadata": {},
   "source": [
    "This technique is known as **Ternary Operators**, or **Conditional Expressions**.\n",
    "\n",
    "You can also have multiple else statements on the same line"
   ]
  },
  {
   "cell_type": "code",
   "execution_count": null,
   "metadata": {},
   "outputs": [],
   "source": [
    "# One line if else statement, with 3 conditions\n",
    "\n",
    "a = 330\n",
    "b = 330\n",
    "print(\"A\") if a > b else print(\"equals\") if a == b else print(\"B\")"
   ]
  },
  {
   "cell_type": "markdown",
   "metadata": {},
   "source": [
    "### And\n",
    "\n",
    "The `and` keyword is a **logical operator**, and is used to **combine conditional statements**"
   ]
  },
  {
   "cell_type": "code",
   "execution_count": null,
   "metadata": {},
   "outputs": [],
   "source": [
    "a = 200\n",
    "b = 33\n",
    "c = 500\n",
    "if a > b and c > a:\n",
    "  print(\"Both conditions are True\")"
   ]
  },
  {
   "cell_type": "markdown",
   "metadata": {},
   "source": [
    "### Or\n",
    "\n",
    "The `or` keyword is a **logical operator**, and is used to **combine conditional statements**"
   ]
  },
  {
   "cell_type": "code",
   "execution_count": null,
   "metadata": {},
   "outputs": [],
   "source": [
    "# Test if a is greater than b, OR if a is greater than c\n",
    "\n",
    "a = 200\n",
    "b = 33\n",
    "c = 500\n",
    "if a > b or a > c:\n",
    "  print(\"At least one of the conditions is True\")"
   ]
  },
  {
   "cell_type": "markdown",
   "metadata": {},
   "source": [
    "### Not\n",
    "\n",
    "The `not` keyword is a **logical operator**, and is used to **reverse the result of the conditional statement**"
   ]
  },
  {
   "cell_type": "code",
   "execution_count": null,
   "metadata": {},
   "outputs": [],
   "source": [
    "# Test if a is NOT greater than b\n",
    "\n",
    "a = 33\n",
    "b = 200\n",
    "if not a > b:\n",
    "  print(\"a is NOT greater than b\")"
   ]
  },
  {
   "cell_type": "markdown",
   "metadata": {},
   "source": [
    "### Nested If\n",
    "\n",
    "You can have `if` statements **inside if statements**, this is called **nested if statements**."
   ]
  },
  {
   "cell_type": "code",
   "execution_count": null,
   "metadata": {},
   "outputs": [],
   "source": [
    "x = 41\n",
    "\n",
    "if x > 10:\n",
    "  print(\"Above ten,\")\n",
    "  if x > 20:\n",
    "    print(\"and also above 20!\")\n",
    "  else:\n",
    "    print(\"but not above 20.\")"
   ]
  },
  {
   "cell_type": "markdown",
   "metadata": {},
   "source": [
    "### The `pass` Statement\n",
    "\n",
    "`if` statements **cannot be empty**, but if you for some reason have an `if` statement with **no content**, put in the `pass` statement to **avoid getting an error**."
   ]
  },
  {
   "cell_type": "code",
   "execution_count": null,
   "metadata": {},
   "outputs": [],
   "source": [
    "a = 33\n",
    "b = 200\n",
    "\n",
    "if b > a:\n",
    "  pass"
   ]
  },
  {
   "cell_type": "markdown",
   "metadata": {},
   "source": [
    "## Python Loops\n",
    "\n",
    "### What are loops\n",
    "\n",
    "In computer Programming, a `Loop` is used to **execute a group of instructions** or a **block of code** - **multiple times**, **without writing it repeatedly**. The block of code is executed based on a **certain condition**. Loops are the **control structures** of a program. Using Loops in computer programs **simplifies rather optimizes** the process of coding.\n",
    "\n",
    "Python has two primitive loop commands:\n",
    "\n",
    "- `while` loops\n",
    "- `for` loops\n",
    "\n",
    "### The `while` Loop\n",
    "\n",
    "With the `while` loop we can execute a set of statements **as long as a condition is true**."
   ]
  },
  {
   "cell_type": "code",
   "execution_count": null,
   "metadata": {},
   "outputs": [],
   "source": [
    "# Print i as long as i is less than 6:\n",
    "\n",
    "i = 1\n",
    "while i < 6:\n",
    "  print(i)\n",
    "  i += 1"
   ]
  },
  {
   "cell_type": "markdown",
   "metadata": {},
   "source": [
    "The `while` loop requires relevant variables to be ready, in this example we need to define an **indexing variable**, `i`, which we set to `1`.\n",
    "\n",
    "### The `break` Statement\n",
    "\n",
    "With the `break` statement we can **stop the loop** even if the **`while` condition is true**"
   ]
  },
  {
   "cell_type": "code",
   "execution_count": null,
   "metadata": {},
   "outputs": [],
   "source": [
    "# Exit the loop when i is 3\n",
    "\n",
    "i = 1\n",
    "while i < 6:\n",
    "  print(i)\n",
    "  if i == 3:\n",
    "    break\n",
    "  i += 1"
   ]
  },
  {
   "cell_type": "markdown",
   "metadata": {},
   "source": [
    "### The `continue` Statement\n",
    "\n",
    "With the `continue` statement we can **stop the current iteration**, and **continue with the next**"
   ]
  },
  {
   "cell_type": "code",
   "execution_count": null,
   "metadata": {},
   "outputs": [],
   "source": [
    "# Continue to the next iteration if i is 3\n",
    "\n",
    "i = 0\n",
    "while i < 6:\n",
    "  i += 1\n",
    "  if i == 3:\n",
    "    continue\n",
    "  print(i)"
   ]
  },
  {
   "cell_type": "markdown",
   "metadata": {},
   "source": [
    "### The `else` Statement\n",
    "\n",
    "With the `else` statement we can run a block of code once when the **condition no longer is true**"
   ]
  },
  {
   "cell_type": "code",
   "execution_count": 14,
   "metadata": {},
   "outputs": [
    {
     "name": "stdout",
     "output_type": "stream",
     "text": [
      "1\n",
      "2\n",
      "3\n",
      "4\n",
      "5\n",
      "i is no longer less than 6\n"
     ]
    }
   ],
   "source": [
    "# Print a message once the condition is false\n",
    "\n",
    "i = 1\n",
    "while i < 6:\n",
    "  print(i)\n",
    "  i += 1\n",
    "else:\n",
    "  print(\"i is no longer less than 6\")"
   ]
  }
 ],
 "metadata": {
  "kernelspec": {
   "display_name": "Python 3 (ipykernel)",
   "language": "python",
   "name": "python3"
  },
  "language_info": {
   "codemirror_mode": {
    "name": "ipython",
    "version": 3
   },
   "file_extension": ".py",
   "mimetype": "text/x-python",
   "name": "python",
   "nbconvert_exporter": "python",
   "pygments_lexer": "ipython3",
   "version": "3.11.4"
  },
  "orig_nbformat": 4
 },
 "nbformat": 4,
 "nbformat_minor": 2
}
