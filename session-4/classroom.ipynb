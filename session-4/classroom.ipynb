{
 "cells": [
  {
   "cell_type": "markdown",
   "metadata": {},
   "source": [
    "# Python Logic Flow Control\n",
    "\n",
    "Today's session we will focus on python's logical controllers.\n",
    "\n",
    "## Python Conditionals\n",
    "\n",
    "Python supports the usual logical conditions from mathematics:\n",
    "\n",
    "Equals: `a == b`\n",
    "Not Equals: `a != b`\n",
    "Less than: `a < b`\n",
    "Less than or equal to: `a <= b`\n",
    "Greater than: `a > b`\n",
    "Greater than or equal to: `a >= b`\n",
    "\n",
    "These conditions can be used in several ways, most commonly in `\"if statements\"` and `loops`.\n",
    "\n",
    "An `\"if statement\"` is written by using the `if` keyword.\n"
   ]
  },
  {
   "cell_type": "code",
   "execution_count": null,
   "metadata": {},
   "outputs": [],
   "source": [
    "a = 33\n",
    "b = 200\n",
    "\n",
    "if b > a:\n",
    "  print(\"b is greater than a\")"
   ]
  },
  {
   "cell_type": "markdown",
   "metadata": {},
   "source": [
    "In this example we use two variables, `a` and `b`, which are used as part of the `if statement` to test whether `b` is greater than `a`. As `a` is `33`, and `b` is `200`, we know that `200` is greater than `33`, and so we print to screen that `\"b is greater than a\"`\n",
    "\n",
    "### Indentation\n",
    "\n",
    "Python relies on **indentation** (whitespace at the beginning of a line) to define scope in the code. Other programming languages often use **curly-brackets** for this purpose.\n"
   ]
  },
  {
   "cell_type": "code",
   "execution_count": null,
   "metadata": {},
   "outputs": [],
   "source": [
    "# This code will give error\n",
    "\n",
    "# a = 33\n",
    "# b = 200\n",
    "# if b > a:\n",
    "# print(\"b is greater than a\") # you will get an error"
   ]
  },
  {
   "cell_type": "markdown",
   "metadata": {},
   "source": [
    "### Elif\n",
    "\n",
    "The `elif` keyword is Python's way of saying `\"if the previous conditions were not true, then try this condition\"`."
   ]
  },
  {
   "cell_type": "code",
   "execution_count": null,
   "metadata": {},
   "outputs": [],
   "source": [
    "a = 33\n",
    "b = 33\n",
    "if b > a:\n",
    "  print(\"b is greater than a\")\n",
    "elif a == b:\n",
    "  print(\"a and b are equal\")"
   ]
  },
  {
   "cell_type": "markdown",
   "metadata": {},
   "source": [
    "In this example `a` is equal to `b`, so the first condition is not `true`, but the `elif` condition is `true`, so we print to screen that `\"a and b are equal\"`.\n",
    "\n",
    "### Else\n",
    "\n",
    "The `else` keyword catches anything which isn't caught by the preceding conditions."
   ]
  },
  {
   "cell_type": "code",
   "execution_count": null,
   "metadata": {},
   "outputs": [],
   "source": [
    "a = 200\n",
    "b = 33\n",
    "if b > a:\n",
    "  print(\"b is greater than a\")\n",
    "elif a == b:\n",
    "  print(\"a and b are equal\")\n",
    "else:\n",
    "  print(\"a is greater than b\")"
   ]
  },
  {
   "cell_type": "markdown",
   "metadata": {},
   "source": [
    "In this example `a` is greater than `b`, so the first condition is not `true`, also the `elif` condition is `not true`, so we go to the `else` condition and print to screen that `\"a is greater than b\"`.\n",
    "\n",
    "You can also have an `else` **without** the `elif`:"
   ]
  },
  {
   "cell_type": "code",
   "execution_count": null,
   "metadata": {},
   "outputs": [],
   "source": [
    "a = 200\n",
    "b = 33\n",
    "if b > a:\n",
    "  print(\"b is greater than a\")\n",
    "else:\n",
    "  print(\"b is not greater than a\")"
   ]
  },
  {
   "cell_type": "markdown",
   "metadata": {},
   "source": [
    "### Short Hand If\n",
    "\n",
    "If you have only **one statement to execute**, you can put it on the **same line** as the `if statement`."
   ]
  },
  {
   "cell_type": "code",
   "execution_count": null,
   "metadata": {},
   "outputs": [],
   "source": [
    "# One line if statement\n",
    "\n",
    "if a > b: print(\"a is greater than b\")"
   ]
  },
  {
   "cell_type": "markdown",
   "metadata": {},
   "source": [
    "### Short Hand If ... Else\n",
    "\n",
    "If you have **only one statement to execute**, one for `if`, and one for `else`, you can put it all on the **same line**:"
   ]
  },
  {
   "cell_type": "code",
   "execution_count": null,
   "metadata": {},
   "outputs": [],
   "source": [
    "a = 2\n",
    "b = 330\n",
    "print(\"A\") if a > b else print(\"B\")"
   ]
  },
  {
   "cell_type": "markdown",
   "metadata": {},
   "source": [
    "This technique is known as **Ternary Operators**, or **Conditional Expressions**.\n",
    "\n",
    "You can also have multiple else statements on the same line"
   ]
  },
  {
   "cell_type": "code",
   "execution_count": null,
   "metadata": {},
   "outputs": [],
   "source": [
    "# One line if else statement, with 3 conditions\n",
    "\n",
    "a = 330\n",
    "b = 330\n",
    "print(\"A\") if a > b else print(\"equals\") if a == b else print(\"B\")"
   ]
  },
  {
   "cell_type": "markdown",
   "metadata": {},
   "source": [
    "### And\n",
    "\n",
    "The `and` keyword is a **logical operator**, and is used to **combine conditional statements**"
   ]
  },
  {
   "cell_type": "code",
   "execution_count": null,
   "metadata": {},
   "outputs": [],
   "source": [
    "a = 200\n",
    "b = 33\n",
    "c = 500\n",
    "if a > b and c > a:\n",
    "  print(\"Both conditions are True\")"
   ]
  },
  {
   "cell_type": "markdown",
   "metadata": {},
   "source": [
    "### Or\n",
    "\n",
    "The `or` keyword is a **logical operator**, and is used to **combine conditional statements**"
   ]
  },
  {
   "cell_type": "code",
   "execution_count": null,
   "metadata": {},
   "outputs": [],
   "source": [
    "# Test if a is greater than b, OR if a is greater than c\n",
    "\n",
    "a = 200\n",
    "b = 33\n",
    "c = 500\n",
    "if a > b or a > c:\n",
    "  print(\"At least one of the conditions is True\")"
   ]
  },
  {
   "cell_type": "markdown",
   "metadata": {},
   "source": [
    "### Not\n",
    "\n",
    "The `not` keyword is a **logical operator**, and is used to **reverse the result of the conditional statement**"
   ]
  },
  {
   "cell_type": "code",
   "execution_count": null,
   "metadata": {},
   "outputs": [],
   "source": [
    "# Test if a is NOT greater than b\n",
    "\n",
    "a = 33\n",
    "b = 200\n",
    "if not a > b:\n",
    "  print(\"a is NOT greater than b\")"
   ]
  },
  {
   "cell_type": "markdown",
   "metadata": {},
   "source": [
    "### Nested If\n",
    "\n",
    "You can have `if` statements **inside if statements**, this is called **nested if statements**."
   ]
  },
  {
   "cell_type": "code",
   "execution_count": null,
   "metadata": {},
   "outputs": [],
   "source": [
    "x = 41\n",
    "\n",
    "if x > 10:\n",
    "  print(\"Above ten,\")\n",
    "  if x > 20:\n",
    "    print(\"and also above 20!\")\n",
    "  else:\n",
    "    print(\"but not above 20.\")"
   ]
  },
  {
   "cell_type": "markdown",
   "metadata": {},
   "source": [
    "### The `pass` Statement\n",
    "\n",
    "`if` statements **cannot be empty**, but if you for some reason have an `if` statement with **no content**, put in the `pass` statement to **avoid getting an error**."
   ]
  },
  {
   "cell_type": "code",
   "execution_count": null,
   "metadata": {},
   "outputs": [],
   "source": [
    "a = 33\n",
    "b = 200\n",
    "\n",
    "if b > a:\n",
    "  pass"
   ]
  },
  {
   "cell_type": "markdown",
   "metadata": {},
   "source": [
    "## Python Loops\n",
    "\n",
    "### What are loops\n",
    "\n",
    "In computer Programming, a `Loop` is used to **execute a group of instructions** or a **block of code** - **multiple times**, **without writing it repeatedly**. The block of code is executed based on a **certain condition**. Loops are the **control structures** of a program. Using Loops in computer programs **simplifies rather optimizes** the process of coding.\n",
    "\n",
    "Python has two primitive loop commands:\n",
    "\n",
    "- `while` loops\n",
    "- `for` loops\n",
    "\n",
    "### The `while` Loop\n",
    "\n",
    "With the `while` loop we can execute a set of statements **as long as a condition is true**."
   ]
  },
  {
   "cell_type": "code",
   "execution_count": null,
   "metadata": {},
   "outputs": [],
   "source": [
    "# Print i as long as i is less than 6:\n",
    "\n",
    "i = 1\n",
    "while i < 6:\n",
    "  print(i)\n",
    "  i += 1"
   ]
  },
  {
   "cell_type": "markdown",
   "metadata": {},
   "source": [
    "The `while` loop requires relevant variables to be ready, in this example we need to define an **indexing variable**, `i`, which we set to `1`.\n",
    "\n",
    "#### The `break` Statement\n",
    "\n",
    "With the `break` statement we can **stop the loop** even if the **`while` condition is true**"
   ]
  },
  {
   "cell_type": "code",
   "execution_count": null,
   "metadata": {},
   "outputs": [],
   "source": [
    "# Exit the loop when i is 3\n",
    "\n",
    "i = 1\n",
    "while i < 6:\n",
    "  print(i)\n",
    "  if i == 3:\n",
    "    break\n",
    "  i += 1"
   ]
  },
  {
   "cell_type": "markdown",
   "metadata": {},
   "source": [
    "#### The `continue` Statement\n",
    "\n",
    "With the `continue` statement we can **stop the current iteration**, and **continue with the next**"
   ]
  },
  {
   "cell_type": "code",
   "execution_count": null,
   "metadata": {},
   "outputs": [],
   "source": [
    "# Continue to the next iteration if i is 3\n",
    "\n",
    "i = 0\n",
    "while i < 6:\n",
    "  i += 1\n",
    "  if i == 3:\n",
    "    continue\n",
    "  print(i)"
   ]
  },
  {
   "cell_type": "markdown",
   "metadata": {},
   "source": [
    "#### The `else` Statement\n",
    "\n",
    "With the `else` statement we can run a block of code once when the **condition no longer is true**"
   ]
  },
  {
   "cell_type": "code",
   "execution_count": null,
   "metadata": {},
   "outputs": [],
   "source": [
    "# Print a message once the condition is false\n",
    "\n",
    "i = 1\n",
    "while i < 6:\n",
    "  print(i)\n",
    "  i += 1\n",
    "else:\n",
    "  print(\"i is no longer less than 6\")"
   ]
  },
  {
   "cell_type": "markdown",
   "metadata": {},
   "source": [
    "### Python For Loops\n",
    "\n",
    "A `for` loop is used for **iterating over a sequence** (that is either a list, a tuple, a dictionary, a set, or a string).\n",
    "\n",
    "This is **less** like the `for` keyword in other programming languages, and works more like an `iterator method` as found in other object-orientated programming languages.\n",
    "\n",
    "With the `for` loop we can execute a set of statements, **once for each item** in a list, tuple, set etc."
   ]
  },
  {
   "cell_type": "code",
   "execution_count": null,
   "metadata": {},
   "outputs": [],
   "source": [
    "# Print each fruit in a fruit list\n",
    "\n",
    "fruits = [\"apple\", \"banana\", \"cherry\"]\n",
    "for x in fruits:\n",
    "  print(x)"
   ]
  },
  {
   "cell_type": "markdown",
   "metadata": {},
   "source": [
    "The `for` loop **does not** require an `indexing` variable to set beforehand.\n",
    "\n",
    "#### Looping Through a String\n",
    "\n",
    "Even `strings` are `iterable` objects, they contain a `sequence of characters`"
   ]
  },
  {
   "cell_type": "code",
   "execution_count": null,
   "metadata": {},
   "outputs": [],
   "source": [
    "# Loop through the letters in the word \"banana\"\n",
    "\n",
    "for x in \"banana\":\n",
    "  print(x)"
   ]
  },
  {
   "cell_type": "markdown",
   "metadata": {},
   "source": [
    "#### The `break` Statement\n",
    "\n",
    "With the `break` statement we can `stop the loop` before it has looped through all the items"
   ]
  },
  {
   "cell_type": "code",
   "execution_count": null,
   "metadata": {},
   "outputs": [],
   "source": [
    "# Exit the loop when x is \"banana\"\n",
    "\n",
    "fruits = [\"apple\", \"banana\", \"cherry\"]\n",
    "for x in fruits:\n",
    "  print(x)\n",
    "  if x == \"banana\":\n",
    "    break"
   ]
  },
  {
   "cell_type": "markdown",
   "metadata": {},
   "source": [
    "#### The `continue` Statement\n",
    "\n",
    "With the `continue` statement we can `stop the current iteration` of the loop, and `continue with the next`"
   ]
  },
  {
   "cell_type": "code",
   "execution_count": null,
   "metadata": {},
   "outputs": [],
   "source": [
    "# Do not print banana\n",
    "\n",
    "fruits = [\"apple\", \"banana\", \"cherry\"]\n",
    "for x in fruits:\n",
    "  if x == \"banana\":\n",
    "    continue\n",
    "  print(x)"
   ]
  },
  {
   "cell_type": "markdown",
   "metadata": {},
   "source": [
    "#### The `range()` Function\n",
    "\n",
    "To loop through a set of code a specified number of times, we can use the `range()` function.\n",
    "\n",
    "The `range()` function returns a `sequence of numbers`, starting from `0 by default`, and increments by `1 (by default)`, and ends at a specified number."
   ]
  },
  {
   "cell_type": "code",
   "execution_count": null,
   "metadata": {},
   "outputs": [],
   "source": [
    "for x in range(6):\n",
    "  print(x)"
   ]
  },
  {
   "cell_type": "markdown",
   "metadata": {},
   "source": [
    "The `range()` function defaults to `0` as a starting value, however it is possible to specify the starting value by adding a parameter: `range(2, 6)`, which means values from `2 to 6` (but not including 6)"
   ]
  },
  {
   "cell_type": "code",
   "execution_count": null,
   "metadata": {},
   "outputs": [],
   "source": [
    "for x in range(2, 6):\n",
    "  print(x)"
   ]
  },
  {
   "cell_type": "markdown",
   "metadata": {},
   "source": [
    "The `range()` function defaults to increment the sequence by 1, however it is possible to specify the increment value by adding a third parameter: `range(2, 30, 3)`"
   ]
  },
  {
   "cell_type": "code",
   "execution_count": null,
   "metadata": {},
   "outputs": [],
   "source": [
    "for x in range(2, 30, 3):\n",
    "  print(x)"
   ]
  },
  {
   "cell_type": "markdown",
   "metadata": {},
   "source": [
    "#### Else in For Loop\n",
    "\n",
    "The `else` keyword in a `for` loop specifies a block of code to be executed when the loop is **finished**"
   ]
  },
  {
   "cell_type": "code",
   "execution_count": null,
   "metadata": {},
   "outputs": [],
   "source": [
    "# Print all numbers from 0 to 5, and print a message when the loop has ended\n",
    "for x in range(6):\n",
    "  print(x)\n",
    "else:\n",
    "  print(\"Finally finished!\")"
   ]
  },
  {
   "cell_type": "markdown",
   "metadata": {},
   "source": [
    "The `else` block will **NOT be executed** if the loop is stopped by a `break` statement."
   ]
  },
  {
   "cell_type": "code",
   "execution_count": null,
   "metadata": {},
   "outputs": [],
   "source": [
    "for x in range(6):\n",
    "  if x == 3: break\n",
    "  print(x)\n",
    "else:\n",
    "  print(\"Finally finished!\")"
   ]
  },
  {
   "cell_type": "markdown",
   "metadata": {},
   "source": [
    "#### Nested Loops\n",
    "\n",
    "A `nested loop` is a **loop inside a loop**.\n",
    "\n",
    "The \"inner loop\" will be executed **one time for each iteration** of the \"outer loop\""
   ]
  },
  {
   "cell_type": "code",
   "execution_count": null,
   "metadata": {},
   "outputs": [],
   "source": [
    "adj = [\"red\", \"big\", \"tasty\"]\n",
    "fruits = [\"apple\", \"banana\", \"cherry\"]\n",
    "\n",
    "for x in adj:\n",
    "  for y in fruits:\n",
    "    print(x, y)"
   ]
  },
  {
   "cell_type": "markdown",
   "metadata": {},
   "source": [
    "#### The pass Statement\n",
    "\n",
    "`for` loops cannot be empty, but if you for some reason have a `for` loop with no content, put in the `pass` statement to avoid getting an error."
   ]
  },
  {
   "cell_type": "code",
   "execution_count": null,
   "metadata": {},
   "outputs": [],
   "source": [
    "for x in [0, 1, 2]:\n",
    "  pass"
   ]
  },
  {
   "cell_type": "markdown",
   "metadata": {},
   "source": [
    "## Python Functions\n",
    "\n",
    "A `function` is a block of code which **only runs when it is called**.\n",
    "\n",
    "You can **pass data**, known as `parameters`, into a `function`.\n",
    "\n",
    "A function can **return data as a result**.\n",
    "\n",
    "### Creating a Function\n",
    "\n",
    "In Python a `function` is defined using the `def` keyword"
   ]
  },
  {
   "cell_type": "code",
   "execution_count": null,
   "metadata": {},
   "outputs": [],
   "source": [
    "def my_function():\n",
    "  print(\"Hello from a function\")"
   ]
  },
  {
   "cell_type": "markdown",
   "metadata": {},
   "source": [
    "### Calling a Function\n",
    "\n",
    "To call a `function`, use the **function name followed by parenthesis**"
   ]
  },
  {
   "cell_type": "code",
   "execution_count": null,
   "metadata": {},
   "outputs": [],
   "source": [
    "def my_function():\n",
    "  print(\"Hello from a function\")\n",
    "\n",
    "my_function()"
   ]
  },
  {
   "cell_type": "markdown",
   "metadata": {},
   "source": [
    "### Arguments\n",
    "\n",
    "Information can be passed into `functions` as `arguments`.\n",
    "\n",
    "**Arguments are specified after the function name, inside the parentheses**. You can add as many arguments as you want, just separate them with a comma.\n",
    "\n",
    "The following example has a function with one argument (fname). When the function is called, we pass along a first name, which is used inside the function to print the full name"
   ]
  },
  {
   "cell_type": "code",
   "execution_count": null,
   "metadata": {},
   "outputs": [],
   "source": [
    "def greet(fname):\n",
    "  print(\"Hello, \" + fname + \"!\")\n",
    "\n",
    "greet(\"Emil\")\n",
    "greet(\"Tobias\")\n",
    "greet(\"Linus\")"
   ]
  },
  {
   "cell_type": "markdown",
   "metadata": {},
   "source": [
    "### Number of Arguments\n",
    "\n",
    "By default, a function must be called with the correct number of arguments. \n",
    "\n",
    "Meaning that if your function expects 2 arguments, you have to call the function with 2 arguments, not more, and not less."
   ]
  },
  {
   "cell_type": "code",
   "execution_count": null,
   "metadata": {},
   "outputs": [],
   "source": [
    "def print_name(fname, lname):\n",
    "  print(fname + \" \" + lname)\n",
    "\n",
    "print_name(\"Debojit\", \"Roy\")"
   ]
  },
  {
   "cell_type": "markdown",
   "metadata": {},
   "source": [
    "If you try to call the function with 1 or 3 arguments, you will get an error"
   ]
  },
  {
   "cell_type": "code",
   "execution_count": null,
   "metadata": {},
   "outputs": [],
   "source": [
    "def print_name(fname, lname):\n",
    "  print(fname + \" \" + lname)\n",
    "\n",
    "print_name(\"Debojit\")"
   ]
  },
  {
   "cell_type": "markdown",
   "metadata": {},
   "source": [
    "### Arbitrary Arguments, `*args`\n",
    "\n",
    "If you do not know how many arguments that will be passed into your function, add a `*` before the parameter name in the function definition.\n",
    "\n",
    "This way the function will receive a `tuple of arguments`, and can access the items accordingly"
   ]
  },
  {
   "cell_type": "code",
   "execution_count": null,
   "metadata": {},
   "outputs": [],
   "source": [
    "def print_input(*args):\n",
    "    for arg in args:\n",
    "      print(arg)\n",
    "\n",
    "print_input(\"Hello\", \"World\")\n",
    "print_input(\"I\", \"Love\", \"Python\")"
   ]
  },
  {
   "cell_type": "markdown",
   "metadata": {},
   "source": [
    "### Keyword Arguments\n",
    "\n",
    "You can also send arguments with the `key = value` syntax.\n",
    "\n",
    "This way the **order of the arguments does not matter**"
   ]
  },
  {
   "cell_type": "code",
   "execution_count": null,
   "metadata": {},
   "outputs": [],
   "source": [
    "def programming_languages(lang1, lang2, lang3):\n",
    "    print(lang1, lang2, lang3)\n",
    "\n",
    "programming_languages(lang3 = \"Python\", lang2 = \"Java\", lang1 = \"C#\")"
   ]
  },
  {
   "cell_type": "markdown",
   "metadata": {},
   "source": [
    "### Arbitrary Keyword Arguments, `**kwargs`\n",
    "\n",
    "If you do not know how many keyword arguments that will be passed into your function, add two `asterisk: **` before the parameter name in the function definition.\n",
    "\n",
    "This way the function will receive a `dictionary of arguments`, and can access the items accordingly"
   ]
  },
  {
   "cell_type": "code",
   "execution_count": null,
   "metadata": {},
   "outputs": [],
   "source": [
    "def print_my_name(**name):\n",
    "  print(\"First Name: \" + name[\"first_name\"])\n",
    "  print(\"Last Name: \" + name[\"last_name\"])\n",
    "\n",
    "print_my_name(first_name=\"John\", last_name=\"Doe\")"
   ]
  },
  {
   "cell_type": "markdown",
   "metadata": {},
   "source": [
    "### Default Parameter Value\n",
    "\n",
    "If we call a function without argument, it uses the default value"
   ]
  },
  {
   "cell_type": "code",
   "execution_count": null,
   "metadata": {},
   "outputs": [],
   "source": [
    "def my_function(country = \"Norway\"):\n",
    "  print(\"I am from \" + country)\n",
    "\n",
    "my_function(\"Sweden\")\n",
    "my_function(\"India\")\n",
    "my_function()\n",
    "my_function(\"Brazil\")"
   ]
  },
  {
   "cell_type": "markdown",
   "metadata": {},
   "source": [
    "### Return Values\n",
    "\n",
    "To let a function `return` a value, use the `return` statement"
   ]
  },
  {
   "cell_type": "code",
   "execution_count": null,
   "metadata": {},
   "outputs": [],
   "source": [
    "def square(num):\n",
    "  return num * num\n",
    "\n",
    "print(square(2))\n",
    "print(square(3))\n",
    "print(square(4))\n",
    "print(square(5))"
   ]
  },
  {
   "cell_type": "markdown",
   "metadata": {},
   "source": [
    "### The pass Statement\n",
    "\n",
    "`function` definitions **cannot be empty**, but if you for some reason have a function definition with no content, put in the `pass` statement to avoid getting an error."
   ]
  },
  {
   "cell_type": "code",
   "execution_count": null,
   "metadata": {},
   "outputs": [],
   "source": [
    "def myfunction():\n",
    "  pass"
   ]
  },
  {
   "cell_type": "markdown",
   "metadata": {},
   "source": [
    "## Python Lambda\n",
    "\n",
    "A `lambda` function is a **small anonymous function**.\n",
    "\n",
    "A `lambda` function can take **any number of arguments, but can only have one expression**\n",
    "\n",
    "### Syntax\n",
    "\n",
    "```\n",
    "lambda arguments : expression\n",
    "```"
   ]
  },
  {
   "cell_type": "code",
   "execution_count": null,
   "metadata": {},
   "outputs": [],
   "source": [
    "# Add 10 to argument a, and return the result\n",
    "x = lambda a : a + 10\n",
    "print(x(5))"
   ]
  },
  {
   "cell_type": "markdown",
   "metadata": {},
   "source": [
    "Lambda functions can take any number of arguments"
   ]
  },
  {
   "cell_type": "code",
   "execution_count": null,
   "metadata": {},
   "outputs": [],
   "source": [
    "# Multiply argument a with argument b and return the result\n",
    "\n",
    "x = lambda a, b : a * b\n",
    "print(x(5, 6))"
   ]
  },
  {
   "cell_type": "code",
   "execution_count": null,
   "metadata": {},
   "outputs": [],
   "source": [
    "# Sum argument a, b, and c and return the result\n",
    "\n",
    "x = lambda a, b, c : a + b + c\n",
    "print(x(5, 6, 2))"
   ]
  },
  {
   "cell_type": "markdown",
   "metadata": {},
   "source": [
    "### Why Use Lambda Functions?\n",
    "\n",
    "The power of `lambda` is better shown when you use them as **an anonymous function inside another function**"
   ]
  },
  {
   "cell_type": "code",
   "execution_count": null,
   "metadata": {},
   "outputs": [],
   "source": [
    "# Say you have a function definition that takes one argument, \n",
    "# and that argument will be multiplied with an unknown number\n",
    "\n",
    "def myfunc(n):\n",
    "  return lambda a : a * n\n",
    "\n",
    "# Use that function definition to make a function that always doubles the number you send in\n",
    "\n",
    "mydoubler = myfunc(2)\n",
    "\n",
    "print(\"Doubler: \" ,mydoubler(11))\n",
    "\n",
    "# Or, use the same function definition to make a function that always triples the number you send in\n",
    "\n",
    "mytripler = myfunc(3)\n",
    "\n",
    "print(\"Tripler: \" , mytripler(11))"
   ]
  },
  {
   "cell_type": "markdown",
   "metadata": {},
   "source": [
    "**Use lambda functions when an anonymous function is required for a short period of time**"
   ]
  }
 ],
 "metadata": {
  "kernelspec": {
   "display_name": "Python 3 (ipykernel)",
   "language": "python",
   "name": "python3"
  },
  "language_info": {
   "codemirror_mode": {
    "name": "ipython",
    "version": 3
   },
   "file_extension": ".py",
   "mimetype": "text/x-python",
   "name": "python",
   "nbconvert_exporter": "python",
   "pygments_lexer": "ipython3",
   "version": "3.11.4"
  },
  "orig_nbformat": 4
 },
 "nbformat": 4,
 "nbformat_minor": 2
}
