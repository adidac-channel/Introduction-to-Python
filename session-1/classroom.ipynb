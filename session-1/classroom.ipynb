{
 "nbformat": 4,
 "nbformat_minor": 0,
 "metadata": {
  "colab": {
   "provenance": [],
   "authorship_tag": "ABX9TyO1q4cTgAUN2L6z9+LemS2a",
   "include_colab_link": true
  },
  "kernelspec": {
   "name": "python3",
   "language": "python",
   "display_name": "Python 3 (ipykernel)"
  },
  "language_info": {
   "name": "python"
  }
 },
 "cells": [
  {
   "cell_type": "markdown",
   "metadata": {
    "id": "view-in-github",
    "colab_type": "text"
   },
   "source": [
    "<a href=\"https://colab.research.google.com/github/adidac-channel/Introduction-to-Python/blob/main/session-1/classroom.ipynb\" target=\"_parent\"><img src=\"https://colab.research.google.com/assets/colab-badge.svg\" alt=\"Open In Colab\"/></a>"
   ]
  },
  {
   "cell_type": "markdown",
   "source": [
    "# Session 1\n",
    "\n",
    "## What is Python?\n",
    "\n",
    "Python is a popular programming language. It was created by Guido van Rossum, and released in 1991.\n",
    "\n",
    "**It is used for:**\n",
    "\n",
    " * web development (server-side),\n",
    " * software development,\n",
    " * mathematics,\n",
    " * system scripting.\n",
    "\n",
    "## What can Python do?\n",
    "\n",
    "* Python can be used on a server to create web applications.\n",
    "* Python can be used alongside software to create workflows.\n",
    "* Python can connect to database systems. It can also read and modify files.\n",
    "* Python can be used to handle big data and perform complex mathematics.\n",
    "* Python can be used for rapid prototyping, or for production-ready software development.\n",
    "\n",
    "## Why Python?\n",
    "\n",
    "* Python works on different platforms (Windows, Mac, Linux, Raspberry Pi, etc).\n",
    "* Python has a simple syntax similar to the English language.\n",
    "* Python has syntax that allows developers to write programs with fewer lines than some other programming languages.\n",
    "* Python runs on an interpreter system, meaning that code can be executed as soon as it is written. This means that prototyping can be very quick.\n",
    "* Python can be treated in a procedural way, an object-oriented way or a functional way.\n",
    "\n",
    "## Python Syntax compared to other programming languages\n",
    "\n",
    "* Python was designed for readability, and has some similarities to the English language with influence from mathematics.\n",
    "* Python uses new lines to complete a command, as opposed to other programming languages which often use semicolons or parentheses.\n",
    "* Python relies on indentation, using whitespace, to define scope; such as the scope of loops, functions and classes. Other programming languages often use curly-brackets for this purpose.\n",
    "\n",
    "Let's get started by printing **Hello World**\n"
   ],
   "metadata": {
    "collapsed": false
   }
  },
  {
   "cell_type": "code",
   "execution_count": 1,
   "outputs": [
    {
     "name": "stdout",
     "output_type": "stream",
     "text": [
      "Hello World\n"
     ]
    }
   ],
   "source": [
    "print(\"Hello World\")"
   ],
   "metadata": {
    "collapsed": false,
    "ExecuteTime": {
     "end_time": "2023-07-16T04:34:05.276390Z",
     "start_time": "2023-07-16T04:34:05.268511Z"
    }
   }
  },
  {
   "cell_type": "markdown",
   "source": [
    "**Exercise 1 : Print your name using Python**\n",
    "\n",
    "Try to print your name using python\n"
   ],
   "metadata": {
    "collapsed": false
   }
  },
  {
   "cell_type": "code",
   "execution_count": null,
   "outputs": [],
   "source": [
    "# Print your name using Python\n",
    "# print\n"
   ],
   "metadata": {
    "collapsed": false
   }
  },
  {
   "cell_type": "markdown",
   "source": [
    "## Python Syntax Primer\n",
    "\n",
    "Quick introduction to Python Syntax\n",
    "\n",
    "### Python Indentation\n",
    "\n",
    "Indentation refers to the spaces at the beginning of a code line.\n",
    "\n",
    "Where in other programming languages the indentation in code is for readability only, the indentation in Python is very important.\n",
    "\n",
    "Python uses indentation to indicate a block of code.\n",
    "\n",
    "**Example**\n"
   ],
   "metadata": {
    "collapsed": false
   }
  },
  {
   "cell_type": "code",
   "execution_count": 2,
   "outputs": [
    {
     "name": "stdout",
     "output_type": "stream",
     "text": [
      "10 is greater than 5\n"
     ]
    }
   ],
   "source": [
    "if 10 > 5:\n",
    "    print(\"10 is greater than 5\")"
   ],
   "metadata": {
    "collapsed": false,
    "ExecuteTime": {
     "end_time": "2023-07-16T04:37:24.308529Z",
     "start_time": "2023-07-16T04:37:24.297123Z"
    }
   }
  },
  {
   "cell_type": "markdown",
   "source": [
    "**The number of spaces is up to you as a programmer, the most common use is four, but it has to be at least one.**\n",
    "\n",
    "### Python Comments\n",
    "\n",
    "Python has commenting capability for the purpose of in-code documentation.\n",
    "\n",
    "**Comments start with a #, and Python will render the rest of the line as a comment:**\n"
   ],
   "metadata": {
    "collapsed": false
   }
  },
  {
   "cell_type": "code",
   "execution_count": null,
   "outputs": [],
   "source": [
    "# This is a comment"
   ],
   "metadata": {
    "collapsed": false
   }
  },
  {
   "cell_type": "markdown",
   "source": [
    "\n",
    "#### Multiline Comments\n",
    "\n",
    "Python does not really have a syntax for multiline comments.\n",
    "\n",
    "To add a multiline comment you could insert a # for each line:\n"
   ],
   "metadata": {
    "collapsed": false
   }
  },
  {
   "cell_type": "code",
   "execution_count": null,
   "outputs": [],
   "source": [
    "#This is a comment\n",
    "#written in\n",
    "#more than just one line\n",
    "print(\"Hello, World!\")"
   ],
   "metadata": {
    "collapsed": false
   }
  },
  {
   "cell_type": "markdown",
   "source": [
    "**Exercise 2: Write some comments to explain the code**"
   ],
   "metadata": {
    "collapsed": false
   }
  },
  {
   "cell_type": "code",
   "execution_count": null,
   "outputs": [],
   "source": [
    "# Add your comments\n",
    "print(\"Python is cool\")"
   ],
   "metadata": {
    "collapsed": false
   }
  },
  {
   "cell_type": "markdown",
   "source": [
    "## Python Variables\n",
    "\n",
    "Variables are containers for storing data values.\n",
    "\n",
    "### Creating Variables\n",
    "\n",
    "Python has no command for declaring a variable.\n",
    "\n",
    "A variable is created the moment you first assign a value to it.\n"
   ],
   "metadata": {
    "collapsed": false
   }
  },
  {
   "cell_type": "code",
   "execution_count": null,
   "outputs": [],
   "source": [
    "x = 5\n",
    "y = \"John\"\n",
    "print(x)\n",
    "print(y)"
   ],
   "metadata": {
    "collapsed": false
   }
  },
  {
   "cell_type": "markdown",
   "source": [
    "Variables do not need to be declared with any particular type, and can even change type after they have been set.\n"
   ],
   "metadata": {
    "collapsed": false
   }
  },
  {
   "cell_type": "code",
   "execution_count": 3,
   "outputs": [
    {
     "name": "stdout",
     "output_type": "stream",
     "text": [
      "Debojit\n"
     ]
    }
   ],
   "source": [
    "x = 4       # x is of type int\n",
    "x = \"Debojit\" # x is now of type str\n",
    "print(x)"
   ],
   "metadata": {
    "collapsed": false,
    "ExecuteTime": {
     "end_time": "2023-07-16T05:02:04.034854Z",
     "start_time": "2023-07-16T05:02:04.029178Z"
    }
   }
  },
  {
   "cell_type": "markdown",
   "source": [
    "Variable names are case-sensitive"
   ],
   "metadata": {
    "collapsed": false
   }
  },
  {
   "cell_type": "code",
   "execution_count": null,
   "outputs": [],
   "source": [
    "a = 1\n",
    "A = \"Debojit\"\n",
    "#A will not overwrite a\n",
    "print(a)\n",
    "print(A)"
   ],
   "metadata": {
    "collapsed": false
   }
  },
  {
   "cell_type": "markdown",
   "source": [
    "### Variable Names\n",
    "\n",
    "**Rules:**\n",
    "\n",
    "* A variable name must start with a letter or the underscore character\n",
    "* A variable name cannot start with a number\n",
    "* A variable name can only contain alphanumeric characters and underscores (A-z, 0-9, and _ )\n",
    "* Variable names are case-sensitive (age, Age and AGE are three different variables)\n",
    "* A variable name cannot be any of the Python keywords.\n",
    "\n"
   ],
   "metadata": {
    "collapsed": false
   }
  },
  {
   "cell_type": "code",
   "execution_count": null,
   "outputs": [],
   "source": [
    "# Legal Variable Names\n",
    "\n",
    "myvar = \"Debojit\"\n",
    "my_var = \"Debojit\"\n",
    "_my_var = \"Debojit\"\n",
    "myVar = \"Debojit\"\n",
    "MYVAR = \"Debojit\"\n",
    "myvar2 = \"Debojit\""
   ],
   "metadata": {
    "collapsed": false
   }
  },
  {
   "cell_type": "code",
   "execution_count": null,
   "outputs": [],
   "source": [
    "# Illegal Variable Names\n",
    "\n",
    "2myvar = \"Debojit\"\n",
    "my-var = \"Debojit\"\n",
    "my var = \"Debojit\""
   ],
   "metadata": {
    "collapsed": false
   }
  },
  {
   "cell_type": "markdown",
   "source": [
    "#### Multi Word Variable Names\n",
    "\n",
    "**Camel Case**\n",
    "\n",
    "Each word, except the first, starts with a capital letter:\n"
   ],
   "metadata": {
    "collapsed": false
   }
  },
  {
   "cell_type": "code",
   "execution_count": null,
   "outputs": [],
   "source": [
    "myVariableName = \"Debojit\""
   ],
   "metadata": {
    "collapsed": false
   }
  },
  {
   "cell_type": "markdown",
   "source": [
    "**Pascal Case**\n",
    "\n",
    "Each word starts with a capital letter:"
   ],
   "metadata": {
    "collapsed": false
   }
  },
  {
   "cell_type": "code",
   "execution_count": null,
   "outputs": [],
   "source": [
    "MyVariableName = \"Debojit\""
   ],
   "metadata": {
    "collapsed": false
   }
  },
  {
   "cell_type": "markdown",
   "source": [
    "**Snake Case**\n",
    "\n",
    "Each word is separated by an underscore character:"
   ],
   "metadata": {
    "collapsed": false
   }
  },
  {
   "cell_type": "code",
   "execution_count": null,
   "outputs": [],
   "source": [
    "my_variable_name = \"Debojit\""
   ],
   "metadata": {
    "collapsed": false
   }
  },
  {
   "cell_type": "markdown",
   "source": [
    "#### Many Values to Multiple Variables\n",
    "\n",
    "Python allows you to assign values to multiple variables in one line:\n"
   ],
   "metadata": {
    "collapsed": false
   }
  },
  {
   "cell_type": "code",
   "execution_count": null,
   "outputs": [],
   "source": [
    "x, y, z = \"Orange\", \"Banana\", \"Cherry\"\n",
    "print(x)\n",
    "print(y)\n",
    "print(z)"
   ],
   "metadata": {
    "collapsed": false
   }
  },
  {
   "cell_type": "markdown",
   "source": [
    "#### One Value to Multiple Variables\n",
    "\n",
    "And you can assign the same value to multiple variables in one line:"
   ],
   "metadata": {
    "collapsed": false
   }
  },
  {
   "cell_type": "code",
   "execution_count": null,
   "outputs": [],
   "source": [
    "x = y = z = \"Orange\"\n",
    "print(x)\n",
    "print(y)\n",
    "print(z)"
   ],
   "metadata": {
    "collapsed": false
   }
  },
  {
   "cell_type": "markdown",
   "source": [
    "**Exercise 3: Variables**"
   ],
   "metadata": {
    "collapsed": false
   }
  },
  {
   "cell_type": "code",
   "execution_count": null,
   "outputs": [],
   "source": [
    "# Create a variable name with value as \"church\" and print it"
   ],
   "metadata": {
    "collapsed": false
   }
  },
  {
   "cell_type": "code",
   "execution_count": null,
   "outputs": [],
   "source": [
    "# Create a variable x and assign value 50 to it"
   ],
   "metadata": {
    "collapsed": false
   }
  },
  {
   "cell_type": "code",
   "execution_count": null,
   "outputs": [],
   "source": [
    "# Create 2 variables and print their sum"
   ],
   "metadata": {
    "collapsed": false
   }
  },
  {
   "cell_type": "code",
   "execution_count": null,
   "outputs": [],
   "source": [
    "# Create 3 variables with the same value in one line"
   ],
   "metadata": {
    "collapsed": false
   }
  },
  {
   "cell_type": "code",
   "execution_count": null,
   "outputs": [],
   "source": [
    "# Create a SnakeCase variable with your name"
   ],
   "metadata": {
    "collapsed": false
   }
  },
  {
   "cell_type": "markdown",
   "source": [
    "\n",
    "## Python Data Types\n",
    "\n",
    "Python has the following data types built-in by default, in these categories:\n",
    "\n",
    "| Data Type      | Supported Values              |\n",
    "|----------------|-------------------------------|\n",
    "| Text Type      | \tstr                          |\n",
    "| Numeric Types  | \tint, float, complex          |\n",
    "| Sequence Types | \tlist, tuple, range           |\n",
    "| Mapping Type   | \tdict                         |\n",
    "| Set Types      | \tset, frozenset               |\n",
    "| Boolean Type   | \tbool                         |\n",
    "| Binary Types   | \tbytes, bytearray, memoryview |\n",
    "| None Type      | \tNoneType                     |\n",
    "\n",
    "\n",
    "### Getting the Data type\n",
    "\n",
    "Use `type` function to get the data type"
   ],
   "metadata": {
    "collapsed": false
   }
  },
  {
   "cell_type": "code",
   "execution_count": null,
   "outputs": [],
   "source": [
    "x = 5\n",
    "print(type(x))"
   ],
   "metadata": {
    "collapsed": false
   }
  },
  {
   "cell_type": "markdown",
   "source": [
    "### Setting the Data Type\n",
    "\n",
    "In Python, the data type is set when you assign a value to a variable:"
   ],
   "metadata": {
    "collapsed": false
   }
  },
  {
   "cell_type": "code",
   "execution_count": null,
   "outputs": [],
   "source": [
    "x = \"Hello World\" # str\n",
    "y = 20  # int"
   ],
   "metadata": {
    "collapsed": false
   }
  },
  {
   "cell_type": "markdown",
   "source": [
    "### Setting the Specific Data Type\n",
    "\n",
    "You can explicitly set the data type as well"
   ],
   "metadata": {
    "collapsed": false
   }
  },
  {
   "cell_type": "code",
   "execution_count": null,
   "outputs": [],
   "source": [
    "x_str = str(\"Hello World\")\n",
    "y_str = int(20)"
   ],
   "metadata": {
    "collapsed": false
   }
  },
  {
   "cell_type": "markdown",
   "source": [
    "**Exercise 4: Data Types**"
   ],
   "metadata": {
    "collapsed": false
   }
  },
  {
   "cell_type": "code",
   "execution_count": null,
   "outputs": [],
   "source": [
    "# Create a Variable and print it's data type"
   ],
   "metadata": {
    "collapsed": false
   }
  },
  {
   "cell_type": "code",
   "execution_count": null,
   "outputs": [],
   "source": [
    "# Explicitly create 2 int variables and print their sum"
   ],
   "metadata": {
    "collapsed": false
   }
  },
  {
   "cell_type": "markdown",
   "source": [
    "## Python Numbers\n",
    "\n",
    "There are three numeric types in Python:\n",
    "\n",
    "* int\n",
    "* float\n",
    "* complex\n",
    "\n",
    "Variables of numeric types are created when you assign a value to them:"
   ],
   "metadata": {
    "collapsed": false
   }
  },
  {
   "cell_type": "code",
   "execution_count": null,
   "outputs": [],
   "source": [
    "x_int = 1    # int\n",
    "y_float = 2.8  # float\n",
    "z_complex = 1j   # complex\n",
    "print(type(x_int))\n",
    "print(type(y_float))\n",
    "print(type(z_complex))"
   ],
   "metadata": {
    "collapsed": false
   }
  },
  {
   "cell_type": "markdown",
   "source": [
    "### Int Type\n",
    "\n",
    "Int, or integer, is a whole number, positive or negative, without decimals, of unlimited length."
   ],
   "metadata": {
    "collapsed": false
   }
  },
  {
   "cell_type": "code",
   "execution_count": null,
   "outputs": [],
   "source": [
    "int_x = 1\n",
    "int_y = 35656222554887711\n",
    "int_z = -3255522\n",
    "\n",
    "print(type(int_x))\n",
    "print(type(int_y))\n",
    "print(type(int_z))"
   ],
   "metadata": {
    "collapsed": false
   }
  },
  {
   "cell_type": "markdown",
   "source": [
    "### Float Type\n",
    "\n",
    "Float, or \"floating point number\" is a number, positive or negative, containing one or more decimals."
   ],
   "metadata": {
    "collapsed": false
   }
  },
  {
   "cell_type": "code",
   "execution_count": null,
   "outputs": [],
   "source": [
    "float_x = 1.10\n",
    "float_y = 1.0\n",
    "float_z = -35.59\n",
    "\n",
    "print(type(float_x))\n",
    "print(type(float_y))\n",
    "print(type(float_z))"
   ],
   "metadata": {
    "collapsed": false
   }
  },
  {
   "cell_type": "markdown",
   "source": [
    "### Complex Type\n",
    "\n",
    "Complex numbers are written with a \"j\" as the imaginary part:"
   ],
   "metadata": {
    "collapsed": false
   }
  },
  {
   "cell_type": "code",
   "execution_count": null,
   "outputs": [],
   "source": [
    "complex_x = 3+5j\n",
    "complex_y = 5j\n",
    "complex_z = -5j\n",
    "\n",
    "print(type(complex_x))\n",
    "print(type(complex_y))\n",
    "print(type(complex_z))"
   ],
   "metadata": {
    "collapsed": false
   }
  },
  {
   "cell_type": "markdown",
   "source": [
    "### Type Conversion\n",
    "\n",
    "You can convert from one type to another with the `int()`, `float()`, and `complex()` methods:\n",
    "\n",
    "**Note: You cannot convert complex numbers into another number type.**"
   ],
   "metadata": {
    "collapsed": false
   }
  },
  {
   "cell_type": "code",
   "execution_count": null,
   "outputs": [],
   "source": [
    "sample_x = 1    # int\n",
    "sample_y = 2.8  # float\n",
    "sample_z = 1j   # complex\n",
    "\n",
    "#convert from int to float:\n",
    "a = float(sample_x)\n",
    "\n",
    "#convert from float to int:\n",
    "b = int(sample_y)\n",
    "\n",
    "#convert from int to complex:\n",
    "c = complex(sample_x)\n",
    "\n",
    "print(a)\n",
    "print(b)\n",
    "print(c)\n",
    "\n",
    "print(type(a))\n",
    "print(type(b))\n",
    "print(type(c))"
   ],
   "metadata": {
    "collapsed": false
   }
  },
  {
   "cell_type": "markdown",
   "source": [
    "**Exercise 4: Convert types**"
   ],
   "metadata": {
    "collapsed": false
   }
  },
  {
   "cell_type": "code",
   "execution_count": null,
   "outputs": [],
   "source": [
    "test_a = 1\n",
    "test_b = 2.0\n",
    "\n",
    "# Convert test_a to float\n",
    "# Convert test_b to int"
   ],
   "metadata": {
    "collapsed": false
   }
  },
  {
   "cell_type": "markdown",
   "source": [
    "## Python Casting\n",
    "\n",
    "There may be times when you want to specify a type on to a variable. This can be done with casting. Python is an object-orientated language, and as such it uses classes to define data types, including its primitive types.\n",
    "\n",
    "Casting in python is therefore done using constructor functions:\n",
    "\n",
    "`int()` - constructs an integer number from an integer literal, a float literal (by removing all decimals), or a string literal (providing the string represents a whole number)\n",
    "`float()` - constructs a float number from an integer literal, a float literal or a string literal (providing the string represents a float or an integer)\n",
    "`str()` - constructs a string from a wide variety of data types, including strings, integer literals and float literals"
   ],
   "metadata": {
    "collapsed": false
   }
  },
  {
   "cell_type": "code",
   "execution_count": null,
   "outputs": [],
   "source": [
    "# Integers\n",
    "\n",
    "cast_x = int(1)   # will be 1\n",
    "cast_y = int(2.8) # will be 2\n",
    "cast_z = int(\"3\") # will be 3\n",
    "\n",
    "print(cast_x)\n",
    "print(cast_y)\n",
    "print(cast_z)"
   ],
   "metadata": {
    "collapsed": false
   }
  },
  {
   "cell_type": "code",
   "execution_count": null,
   "outputs": [],
   "source": [
    "# Floats\n",
    "\n",
    "float_cast_x = float(1)     # will be 1.0\n",
    "float_cast_y = float(\"3\")   # will be 3.0\n",
    "float_cast_z = float(\"4.2\") # will be 4.2\n",
    "\n",
    "print(float_cast_x)\n",
    "print(float_cast_y)\n",
    "print(float_cast_z)"
   ],
   "metadata": {
    "collapsed": false
   }
  },
  {
   "cell_type": "code",
   "execution_count": null,
   "outputs": [],
   "source": [
    "# Strings\n",
    "\n",
    "string_cast_x = str(\"s1\") # will be 's1'\n",
    "string_cast_y = str(2)    # will be '2'\n",
    "string_cast_z = str(3.0)  # will be '3.0'\n",
    "\n",
    "print(string_cast_x)\n",
    "print(string_cast_y)\n",
    "print(string_cast_z)"
   ],
   "metadata": {
    "collapsed": false
   }
  },
  {
   "cell_type": "markdown",
   "source": [
    "**Exercise 5: Cast Values**"
   ],
   "metadata": {
    "collapsed": false
   }
  },
  {
   "cell_type": "code",
   "execution_count": null,
   "outputs": [],
   "source": [
    "test_x = 1\n",
    "test_y = 2.0\n",
    "test_z = '4'\n",
    "\n",
    "# Cast test_x to float\n",
    "# Cast test_y to int\n",
    "# Cast test_z to int"
   ],
   "metadata": {
    "collapsed": false
   }
  }
 ]
}
