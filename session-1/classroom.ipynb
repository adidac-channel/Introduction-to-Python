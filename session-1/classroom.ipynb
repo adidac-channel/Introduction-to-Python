{
 "nbformat": 4,
 "nbformat_minor": 0,
 "metadata": {
  "colab": {
   "provenance": [],
   "authorship_tag": "ABX9TyO1q4cTgAUN2L6z9+LemS2a",
   "include_colab_link": true
  },
  "kernelspec": {
   "name": "python3",
   "language": "python",
   "display_name": "Python 3 (ipykernel)"
  },
  "language_info": {
   "name": "python"
  }
 },
 "cells": [
  {
   "cell_type": "markdown",
   "metadata": {
    "id": "view-in-github",
    "colab_type": "text"
   },
   "source": [
    "<a href=\"https://colab.research.google.com/github/adidac-channel/Introduction-to-Python/blob/main/session-1/classroom.ipynb\" target=\"_parent\"><img src=\"https://colab.research.google.com/assets/colab-badge.svg\" alt=\"Open In Colab\"/></a>"
   ]
  },
  {
   "cell_type": "markdown",
   "source": [
    "# Session 1\n",
    "\n",
    "We are going to cover\n",
    "\n",
    "\n",
    "* Data types in Python\n",
    "* Strings\n",
    "* Functions\n"
   ],
   "metadata": {
    "id": "cuFX-4gn-oy2"
   }
  },
  {
   "cell_type": "code",
   "source": [
    "a = 1\n",
    "a"
   ],
   "metadata": {
    "id": "hbO-ny-2-ujm",
    "ExecuteTime": {
     "end_time": "2023-07-15T09:38:05.236030Z",
     "start_time": "2023-07-15T09:38:05.226611Z"
    }
   },
   "execution_count": 4,
   "outputs": [
    {
     "data": {
      "text/plain": "1"
     },
     "execution_count": 4,
     "metadata": {},
     "output_type": "execute_result"
    }
   ]
  }
 ]
}
